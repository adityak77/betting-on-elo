{
 "metadata": {
  "language_info": {
   "codemirror_mode": {
    "name": "ipython",
    "version": 3
   },
   "file_extension": ".py",
   "mimetype": "text/x-python",
   "name": "python",
   "nbconvert_exporter": "python",
   "pygments_lexer": "ipython3",
   "version": "3.9.6"
  },
  "orig_nbformat": 4,
  "kernelspec": {
   "name": "python3",
   "display_name": "Python 3.9.6 64-bit (windows store)"
  },
  "interpreter": {
   "hash": "2e27410a55ed3eed7c722111bcefeae49d9cb2438c9ca30f4f3093c4538e6809"
  }
 },
 "nbformat": 4,
 "nbformat_minor": 2,
 "cells": [
  {
   "cell_type": "code",
   "execution_count": 1,
   "metadata": {},
   "outputs": [],
   "source": [
    "import pandas as pd"
   ]
  },
  {
   "source": [
    "## Reading in Data"
   ],
   "cell_type": "markdown",
   "metadata": {}
  },
  {
   "cell_type": "code",
   "execution_count": 6,
   "metadata": {},
   "outputs": [
    {
     "output_type": "execute_result",
     "data": {
      "text/plain": [
       "                                Team Result  Odds1  Odds2\n",
       "0    Dignitas�- Counter Logic Gaming   1:00   -133    102\n",
       "1             Evil Geniuses�- Cloud9   1:00    120   -154\n",
       "2         100 Thieves�- Team SoloMid   1:00   -149    117\n",
       "3       FlyQuest eSports�- Immortals   1:00    133   -172\n",
       "4     Team Liquid -�Golden Guardians   0:01   -385    270\n",
       "..                               ...    ...    ...    ...\n",
       "183  Counter Logic Gaming -�Dignitas   0:01   -110   -118\n",
       "184        Golden Guardians -�Cloud9   0:01    399   -625\n",
       "185      Evil Geniuses -�100 Thieves   0:01    120   -154\n",
       "186          Team Liquid -�Immortals   0:01   -909    520\n",
       "187  Team SoloMid -�FlyQuest eSports   0:01   -189    145\n",
       "\n",
       "[188 rows x 4 columns]"
      ],
      "text/html": "<div>\n<style scoped>\n    .dataframe tbody tr th:only-of-type {\n        vertical-align: middle;\n    }\n\n    .dataframe tbody tr th {\n        vertical-align: top;\n    }\n\n    .dataframe thead th {\n        text-align: right;\n    }\n</style>\n<table border=\"1\" class=\"dataframe\">\n  <thead>\n    <tr style=\"text-align: right;\">\n      <th></th>\n      <th>Team</th>\n      <th>Result</th>\n      <th>Odds1</th>\n      <th>Odds2</th>\n    </tr>\n  </thead>\n  <tbody>\n    <tr>\n      <th>0</th>\n      <td>Dignitas�- Counter Logic Gaming</td>\n      <td>1:00</td>\n      <td>-133</td>\n      <td>102</td>\n    </tr>\n    <tr>\n      <th>1</th>\n      <td>Evil Geniuses�- Cloud9</td>\n      <td>1:00</td>\n      <td>120</td>\n      <td>-154</td>\n    </tr>\n    <tr>\n      <th>2</th>\n      <td>100 Thieves�- Team SoloMid</td>\n      <td>1:00</td>\n      <td>-149</td>\n      <td>117</td>\n    </tr>\n    <tr>\n      <th>3</th>\n      <td>FlyQuest eSports�- Immortals</td>\n      <td>1:00</td>\n      <td>133</td>\n      <td>-172</td>\n    </tr>\n    <tr>\n      <th>4</th>\n      <td>Team Liquid -�Golden Guardians</td>\n      <td>0:01</td>\n      <td>-385</td>\n      <td>270</td>\n    </tr>\n    <tr>\n      <th>...</th>\n      <td>...</td>\n      <td>...</td>\n      <td>...</td>\n      <td>...</td>\n    </tr>\n    <tr>\n      <th>183</th>\n      <td>Counter Logic Gaming -�Dignitas</td>\n      <td>0:01</td>\n      <td>-110</td>\n      <td>-118</td>\n    </tr>\n    <tr>\n      <th>184</th>\n      <td>Golden Guardians -�Cloud9</td>\n      <td>0:01</td>\n      <td>399</td>\n      <td>-625</td>\n    </tr>\n    <tr>\n      <th>185</th>\n      <td>Evil Geniuses -�100 Thieves</td>\n      <td>0:01</td>\n      <td>120</td>\n      <td>-154</td>\n    </tr>\n    <tr>\n      <th>186</th>\n      <td>Team Liquid -�Immortals</td>\n      <td>0:01</td>\n      <td>-909</td>\n      <td>520</td>\n    </tr>\n    <tr>\n      <th>187</th>\n      <td>Team SoloMid -�FlyQuest eSports</td>\n      <td>0:01</td>\n      <td>-189</td>\n      <td>145</td>\n    </tr>\n  </tbody>\n</table>\n<p>188 rows × 4 columns</p>\n</div>"
     },
     "metadata": {},
     "execution_count": 6
    }
   ],
   "source": [
    "maindf = pd.read_csv('leagueoflegends2021data.csv')\n",
    "maindf.drop(columns=['Unnamed: 1'], inplace = True)\n",
    "maindf"
   ]
  },
  {
   "cell_type": "code",
   "execution_count": 8,
   "metadata": {},
   "outputs": [
    {
     "output_type": "execute_result",
     "data": {
      "text/plain": [
       "-133"
      ]
     },
     "metadata": {},
     "execution_count": 8
    }
   ],
   "source": [
    "maindf['Odds1'].iloc[0]"
   ]
  },
  {
   "cell_type": "code",
   "execution_count": 9,
   "metadata": {},
   "outputs": [],
   "source": [
    "def odds_to_percentage(odd):\n",
    "    if odd <= -100:\n",
    "        return odd * -1 / (odd * -1 + 100)\n",
    "    elif odd >= 100:\n",
    "        return 100 / (100 + odd)\n",
    "    return 0"
   ]
  },
  {
   "cell_type": "code",
   "execution_count": 14,
   "metadata": {},
   "outputs": [],
   "source": [
    "maindf['Percent1'] = maindf['Odds1'].apply(odds_to_percentage)\n",
    "maindf['Percent2'] = maindf['Odds2'].apply(odds_to_percentage)"
   ]
  },
  {
   "cell_type": "code",
   "execution_count": 16,
   "metadata": {},
   "outputs": [],
   "source": [
    "maindf['True1'] = (maindf['Percent1'] + (1 - maindf['Percent2']))/ 2"
   ]
  },
  {
   "cell_type": "code",
   "execution_count": 18,
   "metadata": {},
   "outputs": [],
   "source": [
    "maindf['True2'] = 1 - maindf['True1']"
   ]
  },
  {
   "cell_type": "code",
   "execution_count": 19,
   "metadata": {},
   "outputs": [
    {
     "output_type": "execute_result",
     "data": {
      "text/plain": [
       "                                Team Result  Odds1  Odds2  Percent1  Percent2  \\\n",
       "0    Dignitas�- Counter Logic Gaming   1:00   -133    102  0.570815  0.495050   \n",
       "1             Evil Geniuses�- Cloud9   1:00    120   -154  0.454545  0.606299   \n",
       "2         100 Thieves�- Team SoloMid   1:00   -149    117  0.598394  0.460829   \n",
       "3       FlyQuest eSports�- Immortals   1:00    133   -172  0.429185  0.632353   \n",
       "4     Team Liquid -�Golden Guardians   0:01   -385    270  0.793814  0.270270   \n",
       "..                               ...    ...    ...    ...       ...       ...   \n",
       "183  Counter Logic Gaming -�Dignitas   0:01   -110   -118  0.523810  0.541284   \n",
       "184        Golden Guardians -�Cloud9   0:01    399   -625  0.200401  0.862069   \n",
       "185      Evil Geniuses -�100 Thieves   0:01    120   -154  0.454545  0.606299   \n",
       "186          Team Liquid -�Immortals   0:01   -909    520  0.900892  0.161290   \n",
       "187  Team SoloMid -�FlyQuest eSports   0:01   -189    145  0.653979  0.408163   \n",
       "\n",
       "        True1     True2  \n",
       "0    0.537883  0.462117  \n",
       "1    0.424123  0.575877  \n",
       "2    0.568782  0.431218  \n",
       "3    0.398416  0.601584  \n",
       "4    0.761772  0.238228  \n",
       "..        ...       ...  \n",
       "183  0.491263  0.508737  \n",
       "184  0.169166  0.830834  \n",
       "185  0.424123  0.575877  \n",
       "186  0.869801  0.130199  \n",
       "187  0.622908  0.377092  \n",
       "\n",
       "[188 rows x 8 columns]"
      ],
      "text/html": "<div>\n<style scoped>\n    .dataframe tbody tr th:only-of-type {\n        vertical-align: middle;\n    }\n\n    .dataframe tbody tr th {\n        vertical-align: top;\n    }\n\n    .dataframe thead th {\n        text-align: right;\n    }\n</style>\n<table border=\"1\" class=\"dataframe\">\n  <thead>\n    <tr style=\"text-align: right;\">\n      <th></th>\n      <th>Team</th>\n      <th>Result</th>\n      <th>Odds1</th>\n      <th>Odds2</th>\n      <th>Percent1</th>\n      <th>Percent2</th>\n      <th>True1</th>\n      <th>True2</th>\n    </tr>\n  </thead>\n  <tbody>\n    <tr>\n      <th>0</th>\n      <td>Dignitas�- Counter Logic Gaming</td>\n      <td>1:00</td>\n      <td>-133</td>\n      <td>102</td>\n      <td>0.570815</td>\n      <td>0.495050</td>\n      <td>0.537883</td>\n      <td>0.462117</td>\n    </tr>\n    <tr>\n      <th>1</th>\n      <td>Evil Geniuses�- Cloud9</td>\n      <td>1:00</td>\n      <td>120</td>\n      <td>-154</td>\n      <td>0.454545</td>\n      <td>0.606299</td>\n      <td>0.424123</td>\n      <td>0.575877</td>\n    </tr>\n    <tr>\n      <th>2</th>\n      <td>100 Thieves�- Team SoloMid</td>\n      <td>1:00</td>\n      <td>-149</td>\n      <td>117</td>\n      <td>0.598394</td>\n      <td>0.460829</td>\n      <td>0.568782</td>\n      <td>0.431218</td>\n    </tr>\n    <tr>\n      <th>3</th>\n      <td>FlyQuest eSports�- Immortals</td>\n      <td>1:00</td>\n      <td>133</td>\n      <td>-172</td>\n      <td>0.429185</td>\n      <td>0.632353</td>\n      <td>0.398416</td>\n      <td>0.601584</td>\n    </tr>\n    <tr>\n      <th>4</th>\n      <td>Team Liquid -�Golden Guardians</td>\n      <td>0:01</td>\n      <td>-385</td>\n      <td>270</td>\n      <td>0.793814</td>\n      <td>0.270270</td>\n      <td>0.761772</td>\n      <td>0.238228</td>\n    </tr>\n    <tr>\n      <th>...</th>\n      <td>...</td>\n      <td>...</td>\n      <td>...</td>\n      <td>...</td>\n      <td>...</td>\n      <td>...</td>\n      <td>...</td>\n      <td>...</td>\n    </tr>\n    <tr>\n      <th>183</th>\n      <td>Counter Logic Gaming -�Dignitas</td>\n      <td>0:01</td>\n      <td>-110</td>\n      <td>-118</td>\n      <td>0.523810</td>\n      <td>0.541284</td>\n      <td>0.491263</td>\n      <td>0.508737</td>\n    </tr>\n    <tr>\n      <th>184</th>\n      <td>Golden Guardians -�Cloud9</td>\n      <td>0:01</td>\n      <td>399</td>\n      <td>-625</td>\n      <td>0.200401</td>\n      <td>0.862069</td>\n      <td>0.169166</td>\n      <td>0.830834</td>\n    </tr>\n    <tr>\n      <th>185</th>\n      <td>Evil Geniuses -�100 Thieves</td>\n      <td>0:01</td>\n      <td>120</td>\n      <td>-154</td>\n      <td>0.454545</td>\n      <td>0.606299</td>\n      <td>0.424123</td>\n      <td>0.575877</td>\n    </tr>\n    <tr>\n      <th>186</th>\n      <td>Team Liquid -�Immortals</td>\n      <td>0:01</td>\n      <td>-909</td>\n      <td>520</td>\n      <td>0.900892</td>\n      <td>0.161290</td>\n      <td>0.869801</td>\n      <td>0.130199</td>\n    </tr>\n    <tr>\n      <th>187</th>\n      <td>Team SoloMid -�FlyQuest eSports</td>\n      <td>0:01</td>\n      <td>-189</td>\n      <td>145</td>\n      <td>0.653979</td>\n      <td>0.408163</td>\n      <td>0.622908</td>\n      <td>0.377092</td>\n    </tr>\n  </tbody>\n</table>\n<p>188 rows × 8 columns</p>\n</div>"
     },
     "metadata": {},
     "execution_count": 19
    }
   ],
   "source": [
    "maindf"
   ]
  },
  {
   "cell_type": "code",
   "execution_count": null,
   "metadata": {},
   "outputs": [],
   "source": []
  }
 ]
}