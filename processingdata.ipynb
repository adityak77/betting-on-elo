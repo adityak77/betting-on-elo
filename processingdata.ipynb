{
 "metadata": {
  "language_info": {
   "codemirror_mode": {
    "name": "ipython",
    "version": 3
   },
   "file_extension": ".py",
   "mimetype": "text/x-python",
   "name": "python",
   "nbconvert_exporter": "python",
   "pygments_lexer": "ipython3",
   "version": "3.9.6"
  },
  "orig_nbformat": 4,
  "kernelspec": {
   "name": "python3",
   "display_name": "Python 3.9.6 64-bit (windows store)"
  },
  "interpreter": {
   "hash": "2e27410a55ed3eed7c722111bcefeae49d9cb2438c9ca30f4f3093c4538e6809"
  }
 },
 "nbformat": 4,
 "nbformat_minor": 2,
 "cells": [
  {
   "cell_type": "code",
   "execution_count": 46,
   "metadata": {},
   "outputs": [],
   "source": [
    "import pandas as pd\n",
    "import math\n",
    "import numpy as np"
   ]
  },
  {
   "source": [
    "## Reading in Data"
   ],
   "cell_type": "markdown",
   "metadata": {}
  },
  {
   "cell_type": "code",
   "execution_count": 36,
   "metadata": {},
   "outputs": [],
   "source": [
    "maindf = pd.read_csv('leagueoflegends2021data.csv')\n",
    "maindf.drop(columns=['Unnamed: 1'], inplace = True)"
   ]
  },
  {
   "cell_type": "code",
   "execution_count": 37,
   "metadata": {},
   "outputs": [],
   "source": [
    "def odds_to_percentage(odd):\n",
    "    if odd <= -100:\n",
    "        return odd * -1 / (odd * -1 + 100)\n",
    "    elif odd >= 100:\n",
    "        return 100 / (100 + odd)\n",
    "    return 0"
   ]
  },
  {
   "cell_type": "code",
   "execution_count": 38,
   "metadata": {},
   "outputs": [],
   "source": [
    "maindf['Percent1'] = maindf['Odds1'].apply(odds_to_percentage)\n",
    "maindf['Percent2'] = maindf['Odds2'].apply(odds_to_percentage)"
   ]
  },
  {
   "cell_type": "code",
   "execution_count": 39,
   "metadata": {},
   "outputs": [],
   "source": [
    "maindf['True1'] = (maindf['Percent1'] + (1 - maindf['Percent2']))/ 2"
   ]
  },
  {
   "cell_type": "code",
   "execution_count": 40,
   "metadata": {},
   "outputs": [],
   "source": [
    "maindf['True2'] = 1 - maindf['True1']"
   ]
  },
  {
   "cell_type": "code",
   "execution_count": 41,
   "metadata": {},
   "outputs": [],
   "source": [
    "maindf['Team1'] = maindf['Team'].apply(lambda x: x.split('-')[0][:-1])\n",
    "maindf['Team2'] = maindf['Team'].apply(lambda x: x.split('-')[1][1:])"
   ]
  },
  {
   "cell_type": "code",
   "execution_count": 42,
   "metadata": {},
   "outputs": [],
   "source": [
    "maindf.drop(columns=['Team'], inplace= True)"
   ]
  },
  {
   "cell_type": "code",
   "execution_count": 43,
   "metadata": {},
   "outputs": [],
   "source": [
    "def rateDiff(probability):\n",
    "    return math.log(1/probability - 1) * 400 * -1"
   ]
  },
  {
   "cell_type": "code",
   "execution_count": 44,
   "metadata": {},
   "outputs": [],
   "source": [
    "maindf['RateDiff1'] = maindf['True1'].apply(rateDiff)\n",
    "maindf['RateDiff2'] = maindf['True2'].apply(rateDiff)"
   ]
  },
  {
   "source": [
    "## Generate Least-Squared Matrix for Team ELO"
   ],
   "cell_type": "markdown",
   "metadata": {}
  },
  {
   "cell_type": "code",
   "execution_count": 56,
   "metadata": {},
   "outputs": [],
   "source": [
    "index_dict = {key:value for value, key in enumerate(maindf['Team1'].unique())}\n"
   ]
  },
  {
   "cell_type": "code",
   "execution_count": 58,
   "metadata": {},
   "outputs": [],
   "source": [
    "bodylist = []\n",
    "solutionlist = []\n",
    "for index, row in maindf.iterrows():\n",
    "    solutionlist.append(row['RateDiff1'])\n",
    "    alpha = [0 for _ in range(10)]\n",
    "    alpha[index_dict[row['Team1']]] += 1\n",
    "    alpha[index_dict[row['Team2']]] -= 1\n",
    "    bodylist.append(alpha)\n",
    "bodylist.append([.1 for _ in range(len(index_dict.keys()))])\n",
    "solutionlist.append(1200)"
   ]
  },
  {
   "cell_type": "code",
   "execution_count": 61,
   "metadata": {},
   "outputs": [],
   "source": [
    "A = np.array(bodylist)\n",
    "b = np.array(solutionlist)"
   ]
  },
  {
   "cell_type": "code",
   "execution_count": 66,
   "metadata": {},
   "outputs": [],
   "source": [
    "first = np.matmul(A.T, A)\n",
    "pseudo = np.linalg.inv(first)\n",
    "final = np.matmul(pseudo, np.matmul(A.T, b))"
   ]
  },
  {
   "cell_type": "code",
   "execution_count": 67,
   "metadata": {},
   "outputs": [
    {
     "output_type": "execute_result",
     "data": {
      "text/plain": [
       "array([1072.39775096, 1242.37929605, 1394.97703637, 1014.91119694,\n",
       "       1482.52393745, 1004.49681137, 1529.26390024,  843.79737814,\n",
       "       1053.9792207 , 1361.27347178])"
      ]
     },
     "metadata": {},
     "execution_count": 67
    }
   ],
   "source": [
    "final"
   ]
  },
  {
   "cell_type": "code",
   "execution_count": 68,
   "metadata": {},
   "outputs": [
    {
     "output_type": "execute_result",
     "data": {
      "text/plain": [
       "{'Dignitas': 0,\n",
       " 'Evil Geniuses': 1,\n",
       " '100 Thieves': 2,\n",
       " 'FlyQuest eSports': 3,\n",
       " 'Team Liquid': 4,\n",
       " 'Counter Logic Gaming': 5,\n",
       " 'Cloud9': 6,\n",
       " 'Golden Guardians': 7,\n",
       " 'Immortals': 8,\n",
       " 'Team SoloMid': 9}"
      ]
     },
     "metadata": {},
     "execution_count": 68
    }
   ],
   "source": [
    "index_dict"
   ]
  },
  {
   "cell_type": "code",
   "execution_count": null,
   "metadata": {},
   "outputs": [],
   "source": []
  }
 ]
}